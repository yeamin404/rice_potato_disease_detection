{
 "cells": [
  {
   "cell_type": "code",
   "execution_count": 51,
   "id": "97a798cc",
   "metadata": {
    "scrolled": true
   },
   "outputs": [
    {
     "name": "stdout",
     "output_type": "stream",
     "text": [
      "\u001b[1m1/1\u001b[0m \u001b[32m━━━━━━━━━━━━━━━━━━━━\u001b[0m\u001b[37m\u001b[0m \u001b[1m0s\u001b[0m 81ms/step\n",
      "Model is predicting it's a Potato___Early_blight, with 99.99% confidence.\n"
     ]
    }
   ],
   "source": [
    "import streamlit as st\n",
    "import tensorflow as tf\n",
    "import numpy as np\n",
    "\n",
    "\n",
    "#Tensorflow Model Prediction\n",
    "def model_prediction(test_image):\n",
    "    model = tf.keras.models.load_model(\"new_model.keras\")\n",
    "    image = tf.keras.preprocessing.image.load_img(img_path,target_size=(128,128))\n",
    "    input_arr = tf.keras.preprocessing.image.img_to_array(image)\n",
    "    input_arr = np.array([input_arr]) #convert single image to batch\n",
    "    predictions = model.predict(input_arr)\n",
    "    confidence = round(100 * (np.max(predictions)), 2)\n",
    "    return np.argmax(predictions), confidence\n",
    "    \n",
    "#return index of max element\n",
    "img_path = \"test_img.jpg\"\n",
    "result_index, con = model_prediction(img_path)\n",
    "class_name = ['Potato___Early_blight', 'Potato___Late_blight', 'Potato___healthy', 'Rice_Bacterial_leaf_blight', \n",
    "                      'Rice_Brown_spot', 'Rice_Healthy', 'Rice_Leaf_Blast', 'Rice_Leaf_Smut']\n",
    "print(\"Model is predicting it's a {}, with {}% confidence.\".format(class_name[result_index], confidence))\n",
    "\n"
   ]
  },
  {
   "cell_type": "code",
   "execution_count": null,
   "id": "24fd33bb",
   "metadata": {},
   "outputs": [],
   "source": []
  }
 ],
 "metadata": {
  "kernelspec": {
   "display_name": "Python 3 (ipykernel)",
   "language": "python",
   "name": "python3"
  },
  "language_info": {
   "codemirror_mode": {
    "name": "ipython",
    "version": 3
   },
   "file_extension": ".py",
   "mimetype": "text/x-python",
   "name": "python",
   "nbconvert_exporter": "python",
   "pygments_lexer": "ipython3",
   "version": "3.11.5"
  }
 },
 "nbformat": 4,
 "nbformat_minor": 5
}
